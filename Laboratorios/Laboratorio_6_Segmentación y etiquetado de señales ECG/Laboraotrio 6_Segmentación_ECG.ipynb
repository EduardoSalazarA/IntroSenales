{
  "cells": [
    {
      "cell_type": "markdown",
      "id": "ab846013-24ed-4f5e-9bb2-c3b588bad001",
      "metadata": {
        "id": "ab846013-24ed-4f5e-9bb2-c3b588bad001"
      },
      "source": [
        "# Dataset de las señales ECG obtenidas anteriormente en 3 categorias: Basal, Respiracion y Post-Ejercicio"
      ]
    },
    {
      "cell_type": "code",
      "execution_count": 1,
      "id": "c7277b5f-9c7d-486d-90af-41447b82fe24",
      "metadata": {
        "tags": [],
        "id": "c7277b5f-9c7d-486d-90af-41447b82fe24"
      },
      "outputs": [],
      "source": [
        "#Importación de librerías\n",
        "import matplotlib.pyplot as plt\n",
        "import pandas as pd\n",
        "import numpy as np\n",
        "\n",
        "#Seleccionamos estilo de ploteo\n",
        "plt.style.use(\"ggplot\")"
      ]
    },
    {
      "cell_type": "markdown",
      "id": "99e4d08b-def7-4ef2-bba3-a2b97766e932",
      "metadata": {
        "id": "99e4d08b-def7-4ef2-bba3-a2b97766e932"
      },
      "source": [
        "## Lectura de Datos"
      ]
    },
    {
      "cell_type": "code",
      "execution_count": 2,
      "id": "84532847-e529-43d4-be59-930aab29d8cd",
      "metadata": {
        "tags": [],
        "colab": {
          "base_uri": "https://localhost:8080/",
          "height": 380
        },
        "id": "84532847-e529-43d4-be59-930aab29d8cd",
        "outputId": "ef69739f-a6d2-41d7-8bb8-154c85674603"
      },
      "outputs": [
        {
          "output_type": "error",
          "ename": "FileNotFoundError",
          "evalue": "ignored",
          "traceback": [
            "\u001b[0;31m---------------------------------------------------------------------------\u001b[0m",
            "\u001b[0;31mFileNotFoundError\u001b[0m                         Traceback (most recent call last)",
            "\u001b[0;32m<ipython-input-2-a5850ca8d5e2>\u001b[0m in \u001b[0;36m<cell line: 2>\u001b[0;34m()\u001b[0m\n\u001b[1;32m      1\u001b[0m \u001b[0;31m#Lectura de documento txt con tabulación (/t) como delimitador\u001b[0m\u001b[0;34m\u001b[0m\u001b[0;34m\u001b[0m\u001b[0m\n\u001b[0;32m----> 2\u001b[0;31m \u001b[0marray1\u001b[0m \u001b[0;34m=\u001b[0m \u001b[0mnp\u001b[0m\u001b[0;34m.\u001b[0m\u001b[0mgenfromtxt\u001b[0m\u001b[0;34m(\u001b[0m\u001b[0;34m\"ECG_BASAL.txt\"\u001b[0m\u001b[0;34m,\u001b[0m \u001b[0mdelimiter\u001b[0m\u001b[0;34m=\u001b[0m\u001b[0;34m\"\\t\"\u001b[0m\u001b[0;34m)\u001b[0m\u001b[0;34m\u001b[0m\u001b[0;34m\u001b[0m\u001b[0m\n\u001b[0m\u001b[1;32m      3\u001b[0m \u001b[0marray2\u001b[0m \u001b[0;34m=\u001b[0m \u001b[0mnp\u001b[0m\u001b[0;34m.\u001b[0m\u001b[0mgenfromtxt\u001b[0m\u001b[0;34m(\u001b[0m\u001b[0;34m\"ECG_RESPIRACION.txt\"\u001b[0m\u001b[0;34m,\u001b[0m \u001b[0mdelimiter\u001b[0m\u001b[0;34m=\u001b[0m\u001b[0;34m\"\\t\"\u001b[0m\u001b[0;34m)\u001b[0m\u001b[0;34m\u001b[0m\u001b[0;34m\u001b[0m\u001b[0m\n\u001b[1;32m      4\u001b[0m \u001b[0marray3\u001b[0m \u001b[0;34m=\u001b[0m \u001b[0mnp\u001b[0m\u001b[0;34m.\u001b[0m\u001b[0mgenfromtxt\u001b[0m\u001b[0;34m(\u001b[0m\u001b[0;34m\"ECG_POSTEJERCICIO.txt\"\u001b[0m\u001b[0;34m,\u001b[0m \u001b[0mdelimiter\u001b[0m\u001b[0;34m=\u001b[0m\u001b[0;34m\"\\t\"\u001b[0m\u001b[0;34m)\u001b[0m\u001b[0;34m\u001b[0m\u001b[0;34m\u001b[0m\u001b[0m\n\u001b[1;32m      5\u001b[0m \u001b[0;34m\u001b[0m\u001b[0m\n",
            "\u001b[0;32m/usr/local/lib/python3.10/dist-packages/numpy/lib/npyio.py\u001b[0m in \u001b[0;36mgenfromtxt\u001b[0;34m(fname, dtype, comments, delimiter, skip_header, skip_footer, converters, missing_values, filling_values, usecols, names, excludelist, deletechars, replace_space, autostrip, case_sensitive, defaultfmt, unpack, usemask, loose, invalid_raise, max_rows, encoding, like)\u001b[0m\n\u001b[1;32m   1811\u001b[0m             \u001b[0mfname\u001b[0m \u001b[0;34m=\u001b[0m \u001b[0mos_fspath\u001b[0m\u001b[0;34m(\u001b[0m\u001b[0mfname\u001b[0m\u001b[0;34m)\u001b[0m\u001b[0;34m\u001b[0m\u001b[0;34m\u001b[0m\u001b[0m\n\u001b[1;32m   1812\u001b[0m         \u001b[0;32mif\u001b[0m \u001b[0misinstance\u001b[0m\u001b[0;34m(\u001b[0m\u001b[0mfname\u001b[0m\u001b[0;34m,\u001b[0m \u001b[0mstr\u001b[0m\u001b[0;34m)\u001b[0m\u001b[0;34m:\u001b[0m\u001b[0;34m\u001b[0m\u001b[0;34m\u001b[0m\u001b[0m\n\u001b[0;32m-> 1813\u001b[0;31m             \u001b[0mfid\u001b[0m \u001b[0;34m=\u001b[0m \u001b[0mnp\u001b[0m\u001b[0;34m.\u001b[0m\u001b[0mlib\u001b[0m\u001b[0;34m.\u001b[0m\u001b[0m_datasource\u001b[0m\u001b[0;34m.\u001b[0m\u001b[0mopen\u001b[0m\u001b[0;34m(\u001b[0m\u001b[0mfname\u001b[0m\u001b[0;34m,\u001b[0m \u001b[0;34m'rt'\u001b[0m\u001b[0;34m,\u001b[0m \u001b[0mencoding\u001b[0m\u001b[0;34m=\u001b[0m\u001b[0mencoding\u001b[0m\u001b[0;34m)\u001b[0m\u001b[0;34m\u001b[0m\u001b[0;34m\u001b[0m\u001b[0m\n\u001b[0m\u001b[1;32m   1814\u001b[0m             \u001b[0mfid_ctx\u001b[0m \u001b[0;34m=\u001b[0m \u001b[0mcontextlib\u001b[0m\u001b[0;34m.\u001b[0m\u001b[0mclosing\u001b[0m\u001b[0;34m(\u001b[0m\u001b[0mfid\u001b[0m\u001b[0;34m)\u001b[0m\u001b[0;34m\u001b[0m\u001b[0;34m\u001b[0m\u001b[0m\n\u001b[1;32m   1815\u001b[0m         \u001b[0;32melse\u001b[0m\u001b[0;34m:\u001b[0m\u001b[0;34m\u001b[0m\u001b[0;34m\u001b[0m\u001b[0m\n",
            "\u001b[0;32m/usr/local/lib/python3.10/dist-packages/numpy/lib/_datasource.py\u001b[0m in \u001b[0;36mopen\u001b[0;34m(path, mode, destpath, encoding, newline)\u001b[0m\n\u001b[1;32m    191\u001b[0m \u001b[0;34m\u001b[0m\u001b[0m\n\u001b[1;32m    192\u001b[0m     \u001b[0mds\u001b[0m \u001b[0;34m=\u001b[0m \u001b[0mDataSource\u001b[0m\u001b[0;34m(\u001b[0m\u001b[0mdestpath\u001b[0m\u001b[0;34m)\u001b[0m\u001b[0;34m\u001b[0m\u001b[0;34m\u001b[0m\u001b[0m\n\u001b[0;32m--> 193\u001b[0;31m     \u001b[0;32mreturn\u001b[0m \u001b[0mds\u001b[0m\u001b[0;34m.\u001b[0m\u001b[0mopen\u001b[0m\u001b[0;34m(\u001b[0m\u001b[0mpath\u001b[0m\u001b[0;34m,\u001b[0m \u001b[0mmode\u001b[0m\u001b[0;34m,\u001b[0m \u001b[0mencoding\u001b[0m\u001b[0;34m=\u001b[0m\u001b[0mencoding\u001b[0m\u001b[0;34m,\u001b[0m \u001b[0mnewline\u001b[0m\u001b[0;34m=\u001b[0m\u001b[0mnewline\u001b[0m\u001b[0;34m)\u001b[0m\u001b[0;34m\u001b[0m\u001b[0;34m\u001b[0m\u001b[0m\n\u001b[0m\u001b[1;32m    194\u001b[0m \u001b[0;34m\u001b[0m\u001b[0m\n\u001b[1;32m    195\u001b[0m \u001b[0;34m\u001b[0m\u001b[0m\n",
            "\u001b[0;32m/usr/local/lib/python3.10/dist-packages/numpy/lib/_datasource.py\u001b[0m in \u001b[0;36mopen\u001b[0;34m(self, path, mode, encoding, newline)\u001b[0m\n\u001b[1;32m    530\u001b[0m                                       encoding=encoding, newline=newline)\n\u001b[1;32m    531\u001b[0m         \u001b[0;32melse\u001b[0m\u001b[0;34m:\u001b[0m\u001b[0;34m\u001b[0m\u001b[0;34m\u001b[0m\u001b[0m\n\u001b[0;32m--> 532\u001b[0;31m             \u001b[0;32mraise\u001b[0m \u001b[0mFileNotFoundError\u001b[0m\u001b[0;34m(\u001b[0m\u001b[0;34mf\"{path} not found.\"\u001b[0m\u001b[0;34m)\u001b[0m\u001b[0;34m\u001b[0m\u001b[0;34m\u001b[0m\u001b[0m\n\u001b[0m\u001b[1;32m    533\u001b[0m \u001b[0;34m\u001b[0m\u001b[0m\n\u001b[1;32m    534\u001b[0m \u001b[0;34m\u001b[0m\u001b[0m\n",
            "\u001b[0;31mFileNotFoundError\u001b[0m: ECG_BASAL.txt not found."
          ]
        }
      ],
      "source": [
        "#Lectura de documento txt con tabulación (/t) como delimitador\n",
        "array1 = np.genfromtxt(\"ECG_BASAL.txt\", delimiter=\"\\t\")\n",
        "array2 = np.genfromtxt(\"ECG_RESPIRACION.txt\", delimiter=\"\\t\")\n",
        "array3 = np.genfromtxt(\"ECG_POSTEJERCICIO.txt\", delimiter=\"\\t\")\n",
        "\n",
        "#Nos quedamos con el dato del sensor\n",
        "basal_sensor = array1[:,-2]\n",
        "resp_sensor = array2[:,-2]\n",
        "ejer_sensor = array3[:,-2]\n",
        "\n",
        "#Graficamos las señales iniciales\n",
        "fig, axs = plt.subplots(3, 3, figsize=(18, 10))\n",
        "fig.subplots_adjust(hspace=0.5)\n",
        "\n",
        "axs[0, 0].plot(basal_sensor)\n",
        "axs[0, 0].set_title('Basal')\n",
        "axs[0, 0].grid(True)\n",
        "\n",
        "axs[0, 1].plot(basal_sensor)\n",
        "axs[0, 1].set_title('señal basal con zoom al inicio')\n",
        "axs[0, 1].set_xlim(0, 2500)\n",
        "axs[0, 1].grid(True)\n",
        "\n",
        "axs[0, 2].plot(basal_sensor)\n",
        "axs[0, 2].set_title('señal basal con zoom al final')\n",
        "axs[0, 2].set_xlim(30000, len(basal_sensor))\n",
        "axs[0, 2].grid(True)\n",
        "\n",
        "axs[1, 0].plot(resp_sensor)\n",
        "axs[1, 0].set_title('Respiracion')\n",
        "axs[1, 0].grid(True)\n",
        "\n",
        "axs[1, 1].plot(resp_sensor)\n",
        "axs[1, 1].set_title('señal respiracion con zoom al inicio')\n",
        "axs[1, 1].set_xlim(0, 1000)\n",
        "axs[1, 1].grid(True)\n",
        "\n",
        "axs[1, 2].plot(resp_sensor)\n",
        "axs[1, 2].set_title('señal respiracion con zoom al final')\n",
        "axs[1, 2].set_xlim(30400, len(resp_sensor))\n",
        "axs[1, 2].grid(True)\n",
        "\n",
        "axs[2, 0].plot(ejer_sensor)\n",
        "axs[2, 0].set_title('Post-Ejercicio')\n",
        "axs[2, 0].grid(True)\n",
        "\n",
        "axs[2, 1].plot(ejer_sensor)\n",
        "axs[2, 1].set_title('señal post-Ejercicio con zoom al inicio')\n",
        "axs[2, 1].set_xlim(0, 800)\n",
        "axs[2, 1].grid(True)\n",
        "\n",
        "axs[2, 2].plot(ejer_sensor)\n",
        "axs[2, 2].set_title('señal post-Ejercicio con zoom al final')\n",
        "axs[2, 2].set_xlim(19800, len(ejer_sensor))\n",
        "axs[2, 2].grid(True)\n",
        "\n",
        "plt.tight_layout()"
      ]
    },
    {
      "cell_type": "markdown",
      "id": "7041c37d-7700-452d-abcd-c34793c316e4",
      "metadata": {
        "id": "7041c37d-7700-452d-abcd-c34793c316e4"
      },
      "source": [
        "## Recorte de señal"
      ]
    },
    {
      "cell_type": "markdown",
      "id": "fdbcb9eb-5a62-4407-84a7-ed5661ea0110",
      "metadata": {
        "id": "fdbcb9eb-5a62-4407-84a7-ed5661ea0110"
      },
      "source": [
        "### 1. Basal\n",
        "Segun lo que se ve en la graficación de los datos, la señal original que se obtiene del sensor posee ruido por lo que se procede a recortar dicha señal. El primer punto de corte se hace en 2050, que es donde se empieza los ciclos cardiacos ademas se escoge ese punto ya que es donde aproximadamente empieza la onda P, se puede observar en la gráfica de la señal original que antes del punto que escogimos hay dos ciclos cardiacos, pero no se eligieron esos como ciclos iniciales ya que todavía pueden estar afectados por el ruido. El segundo punto de corte se hace en 30457, ya que es donde aproximadamente termina la onda T del penúltimo ciclo y empieza la onda P del último ciclo."
      ]
    },
    {
      "cell_type": "code",
      "execution_count": null,
      "id": "c7ccecb8-2ac4-425a-bc8b-294bf5967e13",
      "metadata": {
        "tags": [],
        "id": "c7ccecb8-2ac4-425a-bc8b-294bf5967e13"
      },
      "outputs": [],
      "source": [
        "# Recortamos la señal\n",
        "basal_rec = basal_sensor[2050:30457]"
      ]
    },
    {
      "cell_type": "markdown",
      "id": "0131ea09-a56a-4b31-9bfa-ed2ef0d455ee",
      "metadata": {
        "id": "0131ea09-a56a-4b31-9bfa-ed2ef0d455ee"
      },
      "source": [
        "### 2. Respiración\n",
        "Segun lo que se ve en la graficación de los datos, la señal original que se obtiene del sensor no posee tanto ruido por lo que se hara pequenos recortes para tener puntos fijos de que parte del ciclo cardiaco empezara y terminara nuestra señal. El primer punto de corte se hace en 400, que es donde empieza la onda P del segundo ciclo cardiaco de nuestra señal, ya que el primer ciclo no esta tan claro. El segundo punto de corte se hace en 30829, ya que es donde aproximadamente termina la onda T del penultimo ciclo y empieza la onda P del ultimo ciclo."
      ]
    },
    {
      "cell_type": "code",
      "execution_count": null,
      "id": "107f2e3f-99ef-4aab-aee5-4e979cf71010",
      "metadata": {
        "tags": [],
        "id": "107f2e3f-99ef-4aab-aee5-4e979cf71010"
      },
      "outputs": [],
      "source": [
        "# Recortamos la señal\n",
        "resp_rec = resp_sensor[400:30829]"
      ]
    },
    {
      "cell_type": "markdown",
      "id": "5b4fbae8-0f98-4621-9d40-cbbe73d022ef",
      "metadata": {
        "id": "5b4fbae8-0f98-4621-9d40-cbbe73d022ef"
      },
      "source": [
        "### 3. Post-ejercicio\n",
        "Segun lo que se ve en la graficacion de los datos, la señal original que se obtiene del sensor no posee tanto ruido por lo que se hara pequenos recortes para tener puntos fijos de que parte del ciclo cardiaco empezara y terminara nuestra señal. El primer punto de corte se hace en 500, que es donde empieza la onda P del segundo ciclo cardiaco de nuestra señal, para evitar pequenos ruidos que puede haber en el primer ciclo cardiaco que aparece en nuestra señal. El segundo punto de corte se hace en 20156, ya que es donde aproximadamente termina la onda T del penultimo ciclo y empieza la onda P del ultimo ciclo."
      ]
    },
    {
      "cell_type": "code",
      "execution_count": null,
      "id": "afa87c01-dbe3-4f06-ae8f-b37c77b9525c",
      "metadata": {
        "tags": [],
        "id": "afa87c01-dbe3-4f06-ae8f-b37c77b9525c"
      },
      "outputs": [],
      "source": [
        "# Recortamos la señal\n",
        "ejer_rec = ejer_sensor[500:20156]"
      ]
    },
    {
      "cell_type": "markdown",
      "id": "d6ec2faf-c85f-4b58-ad9e-f69394690de6",
      "metadata": {
        "id": "d6ec2faf-c85f-4b58-ad9e-f69394690de6"
      },
      "source": [
        "### Graficas de las señales recortadas"
      ]
    },
    {
      "cell_type": "code",
      "execution_count": null,
      "id": "a77053eb-ed19-45e6-a585-ad9460c65650",
      "metadata": {
        "tags": [],
        "id": "a77053eb-ed19-45e6-a585-ad9460c65650"
      },
      "outputs": [],
      "source": [
        "#Graficamos las señales iniciales\n",
        "fig, axs = plt.subplots(3, 3, figsize=(16, 9))\n",
        "fig.subplots_adjust(hspace=0.5)\n",
        "\n",
        "axs[0, 0].plot(basal_rec)\n",
        "axs[0, 0].set_title('Basal recortada')\n",
        "axs[0, 0].grid(True)\n",
        "\n",
        "axs[0, 1].plot(basal_rec)\n",
        "axs[0, 1].set_title('señal basal con zoom al inicio')\n",
        "axs[0, 1].set_xlim(0, 1500)\n",
        "axs[0, 1].grid(True)\n",
        "\n",
        "axs[0, 2].plot(basal_rec)\n",
        "axs[0, 2].set_title('señal basal con zoom al final')\n",
        "axs[0, 2].set_xlim(27000, len(basal_rec))\n",
        "axs[0, 2].grid(True)\n",
        "\n",
        "axs[1, 0].plot(resp_rec)\n",
        "axs[1, 0].set_title('Respiracion recortada')\n",
        "axs[1, 0].grid(True)\n",
        "\n",
        "axs[1, 1].plot(resp_rec)\n",
        "axs[1, 1].set_title('señal respiracion con zoom al inicio')\n",
        "axs[1, 1].set_xlim(0, 1200)\n",
        "axs[1, 1].grid(True)\n",
        "\n",
        "axs[1, 2].plot(resp_rec)\n",
        "axs[1, 2].set_title('señal respiracion con zoom al final')\n",
        "axs[1, 2].set_xlim(29000, len(resp_rec))\n",
        "axs[1, 2].grid(True)\n",
        "\n",
        "axs[2, 0].plot(ejer_rec)\n",
        "axs[2, 0].set_title('Post-Ejercicio recortada')\n",
        "axs[2, 0].grid(True)\n",
        "\n",
        "axs[2, 1].plot(ejer_rec)\n",
        "axs[2, 1].set_title('señal post-Ejercicio con zoom al inicio')\n",
        "axs[2, 1].set_xlim(0, 800)\n",
        "axs[2, 1].grid(True)\n",
        "\n",
        "axs[2, 2].plot(ejer_rec)\n",
        "axs[2, 2].set_title('señal post-Ejercicio con zoom al final')\n",
        "axs[2, 2].set_xlim(19000, len(ejer_rec))\n",
        "axs[2, 2].grid(True)\n",
        "\n",
        "plt.tight_layout()"
      ]
    },
    {
      "cell_type": "markdown",
      "id": "13b0c8d5-bc61-4097-bf22-559e99303daf",
      "metadata": {
        "id": "13b0c8d5-bc61-4097-bf22-559e99303daf"
      },
      "source": [
        "## Especificar la Frecuencia de muestreo"
      ]
    },
    {
      "cell_type": "code",
      "execution_count": null,
      "id": "4480c01a-ab94-4977-9816-f858f9457466",
      "metadata": {
        "tags": [],
        "id": "4480c01a-ab94-4977-9816-f858f9457466"
      },
      "outputs": [],
      "source": [
        "Fs = 1000 #Frecuencia de muestreo del dispositivo de adquisición\n",
        "Ts = 1/Fs\n",
        "\n",
        "#Basal\n",
        "n_basal = np.arange(0,basal_rec.shape[0])  # t = n*Ts\n",
        "t_basal = n_basal*Ts\n",
        "\n",
        "#Respiracion\n",
        "n_resp = np.arange(0,resp_rec.shape[0])  # t = n*Ts\n",
        "t_resp = n_resp*Ts\n",
        "\n",
        "#Post-ejercicio\n",
        "n_ejer = np.arange(0,ejer_rec.shape[0])  # t = n*Ts\n",
        "t_ejer = n_ejer*Ts\n",
        "\n",
        "#Ploteamos la señal en el tiempo\n",
        "fig, axs = plt.subplots(3, 1, figsize=(16, 9))\n",
        "fig.subplots_adjust(hspace=0.5)\n",
        "\n",
        "axs[0].plot(t_basal, basal_rec)\n",
        "axs[0].set_title('Basal')\n",
        "axs[0].set_xlabel('t [s]')\n",
        "axs[0].grid(True)\n",
        "\n",
        "axs[1].plot(t_resp, resp_rec)\n",
        "axs[1].set_title('Respiracion')\n",
        "axs[1].set_xlabel('t [s]')\n",
        "axs[1].grid(True)\n",
        "\n",
        "axs[2].plot(t_ejer, ejer_rec)\n",
        "axs[2].set_title('Post-ejercicio')\n",
        "axs[2].set_xlabel('t [s]')\n",
        "axs[2].grid(True)\n",
        "\n",
        "plt.tight_layout()"
      ]
    },
    {
      "cell_type": "markdown",
      "id": "d81f224d-8697-47e1-9e3d-55c79807dcb3",
      "metadata": {
        "id": "d81f224d-8697-47e1-9e3d-55c79807dcb3"
      },
      "source": [
        "## Pasando el array a pandas para trabajarlo como series de tiempo"
      ]
    },
    {
      "cell_type": "code",
      "execution_count": null,
      "id": "8550e9fb-0c79-4d54-bb14-198c92aeff66",
      "metadata": {
        "tags": [],
        "id": "8550e9fb-0c79-4d54-bb14-198c92aeff66"
      },
      "outputs": [],
      "source": [
        "#Pasamos las observaciones a filas correspondientes a una variable t y d_sensor\n",
        "st_basal = np.concatenate((t_basal.reshape(-1,1),  basal_rec.reshape(-1,1)), axis=1) #Basal\n",
        "st_resp = np.concatenate((t_resp.reshape(-1,1),  resp_rec.reshape(-1,1)), axis=1) #Respiracion\n",
        "st_ejer = np.concatenate((t_ejer.reshape(-1,1),  ejer_rec.reshape(-1,1)), axis=1) #Post-ejercicio\n",
        "\n",
        "#Creamos el data frame con las varibles t y d_sensor\n",
        "df_basal = pd.DataFrame(st_basal, columns=[\"t\",\"basal_rec\"]) #Basal\n",
        "df_resp = pd.DataFrame(st_resp, columns=[\"t\",\"resp_rec\"]) #Respiracion\n",
        "df_ejer = pd.DataFrame(st_ejer, columns=[\"t\",\"ejer_rec\"]) #Post-ejercicio\n",
        "\n",
        "#Establecemos t como index \n",
        "df_basal = df_basal.set_index(\"t\") #Basal\n",
        "df_resp = df_resp.set_index(\"t\") #Respiracion\n",
        "df_ejer = df_ejer.set_index(\"t\") #Post-ejercicio"
      ]
    },
    {
      "cell_type": "markdown",
      "id": "1108f7a3-1681-4422-8723-5a7730879362",
      "metadata": {
        "id": "1108f7a3-1681-4422-8723-5a7730879362"
      },
      "source": [
        "## Obteniendo la duracion de un ciclo cardiaco"
      ]
    },
    {
      "cell_type": "markdown",
      "id": "7f9d9f11-f701-46db-a0b0-f8baced40930",
      "metadata": {
        "id": "7f9d9f11-f701-46db-a0b0-f8baced40930"
      },
      "source": [
        "Se grafica la señal durante el primer segundo para tener una vista amplia y calcular aproximadamente cuanto tiempo dura un ciclo cardiaco. Y como se puede observar el ciclo cardiaco para el estado basal es 0.56 segundos, para el de respiracion es 0.63 segundos y para el de post-ejercicio es 0.37."
      ]
    },
    {
      "cell_type": "code",
      "execution_count": null,
      "id": "707d4709-8d94-4514-b117-0f8c92aed226",
      "metadata": {
        "tags": [],
        "id": "707d4709-8d94-4514-b117-0f8c92aed226"
      },
      "outputs": [],
      "source": [
        "#Ploteamos la señal\n",
        "fig, axs = plt.subplots(3, 2, figsize=(16, 9))\n",
        "fig.subplots_adjust(hspace=0.5)\n",
        "\n",
        "axs[0, 0].plot(df_basal)\n",
        "axs[0, 0].set_title('Basal durante 1 seg.')\n",
        "axs[0, 0].set_xlim(0, 1)\n",
        "axs[0, 0].set_xlabel('t [s]')\n",
        "axs[0, 0].grid(True)\n",
        "\n",
        "axs[0, 1].plot(df_basal)\n",
        "axs[0, 1].set_title('Basal - Ciclo cardiaco (0.56s)')\n",
        "axs[0, 1].set_xlim(0, 0.56)\n",
        "axs[0, 1].set_xlabel('t [s]')\n",
        "axs[0, 1].grid(True)\n",
        "\n",
        "axs[1, 0].plot(df_resp)\n",
        "axs[1, 0].set_title('Respiracion durante 1 seg.')\n",
        "axs[1, 0].set_xlim(0, 1)\n",
        "axs[1, 0].set_xlabel('t [s]')\n",
        "axs[1, 0].grid(True)\n",
        "\n",
        "axs[1, 1].plot(df_resp)\n",
        "axs[1, 1].set_title('Respiracion - Ciclo cardiaco (0.63s)')\n",
        "axs[1, 1].set_xlim(0, 0.63)\n",
        "axs[1, 1].set_xlabel('t [s]')\n",
        "axs[1, 1].grid(True)\n",
        "\n",
        "axs[2, 0].plot(df_ejer)\n",
        "axs[2, 0].set_title('Post-ejercicio durante 1 seg.')\n",
        "axs[2, 0].set_xlim(0, 1)\n",
        "axs[2, 0].set_xlabel('t [s]')\n",
        "axs[2, 0].grid(True)\n",
        "\n",
        "axs[2, 1].plot(df_ejer)\n",
        "axs[2, 1].set_title('Post-ejercicio - Ciclo cardiaco (0.37s)')\n",
        "axs[2, 1].set_xlim(0, 0.37)\n",
        "axs[2, 1].set_xlabel('t [s]')\n",
        "axs[2, 1].grid(True)\n",
        "\n",
        "plt.tight_layout()"
      ]
    },
    {
      "cell_type": "markdown",
      "id": "337d9a36-d29d-42c9-ace4-a95339cacb8e",
      "metadata": {
        "id": "337d9a36-d29d-42c9-ace4-a95339cacb8e"
      },
      "source": [
        "## Pasando a data tabular estilo Sklearn"
      ]
    },
    {
      "cell_type": "code",
      "execution_count": null,
      "id": "8463f4b4-ff3a-449e-90e0-ad1ec65239ea",
      "metadata": {
        "tags": [],
        "id": "8463f4b4-ff3a-449e-90e0-ad1ec65239ea"
      },
      "outputs": [],
      "source": [
        "import math\n",
        "\n",
        "# Basal\n",
        "x_basal = math.ceil(df_basal.index.max()/0.56)             #Redondeamos al numero mayor\n",
        "y_basal = math.ceil(df_basal.shape[0]/x_basal)\n",
        "tab_basal = df_basal[[\"basal_rec\"]].values.reshape(x_basal,y_basal)\n",
        "\n",
        "# Respiracion\n",
        "x_resp = math.ceil(df_resp.index.max()/0.63)              #Redondeamos al numero mayor\n",
        "y_resp = math.ceil(df_resp.shape[0]/x_resp)\n",
        "tab_resp = df_resp[[\"resp_rec\"]].values.reshape(x_resp,y_resp)\n",
        "\n",
        "# Post-ejercicio\n",
        "x_ejer = math.ceil(df_ejer.index.max()/0.37)              #Redondeamos al numero mayor\n",
        "y_ejer = math.ceil(df_ejer.shape[0]/x_ejer)\n",
        "tab_ejer = df_ejer[[\"ejer_rec\"]].values.reshape(x_ejer,y_ejer)"
      ]
    },
    {
      "cell_type": "code",
      "execution_count": null,
      "id": "18a64dfe-e6b5-4b7a-89cd-050a8d75fa9c",
      "metadata": {
        "tags": [],
        "id": "18a64dfe-e6b5-4b7a-89cd-050a8d75fa9c"
      },
      "outputs": [],
      "source": [
        "#Graficamos\n",
        "fig, axs = plt.subplots(3, 3, figsize=(18, 10))\n",
        "fig.subplots_adjust(hspace=0.5)\n",
        "\n",
        "axs[0, 0].plot(tab_basal[0])\n",
        "axs[0, 0].set_title('Data basal primera fila')\n",
        "axs[0, 0].grid(True)\n",
        "\n",
        "mb = round(x_basal/2)\n",
        "axs[0, 1].plot(tab_basal[mb])\n",
        "axs[0, 1].set_title('Data basal fila '+ str(mb))\n",
        "axs[0, 1].grid(True)\n",
        "\n",
        "axs[0, 2].plot(tab_basal[x_basal-1])\n",
        "axs[0, 2].set_title('Data basal ultima fila')\n",
        "axs[0, 2].grid(True)\n",
        "\n",
        "axs[1, 0].plot(tab_resp[0])\n",
        "axs[1, 0].set_title('Data respiracion primera fila')\n",
        "axs[1, 0].grid(True)\n",
        "\n",
        "mr = round(x_resp/2)\n",
        "axs[1, 1].plot(tab_resp[mr])\n",
        "axs[1, 1].set_title('Data respiracion fila'+str(mr))\n",
        "axs[1, 1].grid(True)\n",
        "\n",
        "axs[1, 2].plot(tab_resp[x_resp-1])\n",
        "axs[1, 2].set_title('Data respiracion ultima fila')\n",
        "axs[1, 2].grid(True)\n",
        "\n",
        "axs[2, 0].plot(tab_ejer[0])\n",
        "axs[2, 0].set_title('Data post-ejercicio primera fila')\n",
        "axs[2, 0].grid(True)\n",
        "\n",
        "me = round(x_ejer/2)\n",
        "axs[2, 1].plot(tab_ejer[round(x_ejer/2)])\n",
        "axs[2, 1].set_title('Data post-ejercicio fila'+str(me))\n",
        "axs[2, 1].grid(True)\n",
        "\n",
        "axs[2, 2].plot(tab_ejer[x_ejer-1])\n",
        "axs[2, 2].set_title('Data post-ejercicio ultima fila')\n",
        "axs[2, 2].grid(True)\n",
        "\n",
        "plt.tight_layout()"
      ]
    },
    {
      "cell_type": "markdown",
      "id": "da692ab1-e42a-4546-b27e-5479fae199a6",
      "metadata": {
        "id": "da692ab1-e42a-4546-b27e-5479fae199a6"
      },
      "source": [
        "## Igualando el numero de datos por fila para las señales de las categorias"
      ]
    },
    {
      "cell_type": "code",
      "execution_count": null,
      "id": "8a0f9627-fc7b-41e5-99a4-56787e9326a5",
      "metadata": {
        "tags": [],
        "id": "8a0f9627-fc7b-41e5-99a4-56787e9326a5"
      },
      "outputs": [],
      "source": [
        "#Calculando el maximo numero de datos de las tres categorias\n",
        "lst = [y_basal, y_resp, y_ejer]\n",
        "y_max = max(lst)\n",
        "\n",
        "#Creando una funcion para agregar el numero que queramos a señal\n",
        "#n_add = Numero con el que vamos a rellenar cada fila\n",
        "#n_col = Cuantas veces agregaremos ese numero por fila\n",
        "def rellenar(n_add, n_col, tab_señal):\n",
        "    matriz_n_add = np.repeat(n_add, tab_señal.shape[0]*n_col).reshape(-1,n_col)\n",
        "    rellenado = np.concatenate((tab_señal,  matriz_n_add), axis=1)\n",
        "    return rellenado\n",
        "\n",
        "#Definiendo que numero queremos agregar\n",
        "n_add = 0\n",
        "\n",
        "#Basal\n",
        "N_basal = y_max - y_basal\n",
        "if N_basal == 0:\n",
        "    basal_final = tab_basal\n",
        "else:\n",
        "    #Codigo para completar solamente con ceros\n",
        "    #zeros_basal = np.zeros((tab_basal.shape[0], N_basal))\n",
        "    #basal_final = np.concatenate((tab_basal,  zeros_basal), axis=1)\n",
        "    basal_final = rellenar(n_add, N_basal, tab_basal)\n",
        "\n",
        "#Respiracion\n",
        "N_resp = y_max - y_resp\n",
        "if N_resp == 0:\n",
        "    resp_final = tab_resp\n",
        "else:\n",
        "    #Codigo para completar solamente con ceros\n",
        "    #zeros_resp = np.zeros((tab_resp.shape[0], N_resp))\n",
        "    #resp_final = np.concatenate((tab_resp,  zeros_resp), axis=1)\n",
        "    resp_final = rellenar(n_add, N_resp, tab_resp)\n",
        "\n",
        "#Post-ejercicio\n",
        "N_ejer = y_max - y_ejer\n",
        "if N_ejer == 0:\n",
        "    ejer_final = tab_ejer\n",
        "else:\n",
        "    #Codigo para completar solamente con ceros\n",
        "    #zeros_ejer = np.zeros((tab_ejer.shape[0], N_ejer))\n",
        "    #ejer_final = np.concatenate((tab_ejer,  zeros_ejer), axis=1)\n",
        "    ejer_final = rellenar(n_add, N_ejer, tab_ejer)"
      ]
    },
    {
      "cell_type": "markdown",
      "id": "468eeb50-9098-4b34-9401-380c22b2e2db",
      "metadata": {
        "id": "468eeb50-9098-4b34-9401-380c22b2e2db"
      },
      "source": [
        "### Descripción de categoria de los ejercicios realizado en la clase de ECG\n",
        "\n",
        "| Descripción | Categoria |\n",
        "|----------|----------|\n",
        "| Basal    | 0   |\n",
        "| Respiracion   | 1   | \n",
        "| Post-Ejercicio    | 2   |"
      ]
    },
    {
      "cell_type": "code",
      "execution_count": null,
      "id": "88845720-688f-4608-a63e-2ccf6fa28d49",
      "metadata": {
        "tags": [],
        "id": "88845720-688f-4608-a63e-2ccf6fa28d49"
      },
      "outputs": [],
      "source": [
        "#Creamos una categoría\n",
        "target_0 = np.repeat(0, basal_final.shape[0])    #Basal = 0\n",
        "target_1 = np.repeat(1, resp_final.shape[0])     #Respiracion = 1\n",
        "target_2 = np.repeat(2, ejer_final.shape[0])     #Post-ejercicio = 2"
      ]
    },
    {
      "cell_type": "markdown",
      "id": "b5fcb2a5-3867-4824-8ab8-501b1b151954",
      "metadata": {
        "id": "b5fcb2a5-3867-4824-8ab8-501b1b151954"
      },
      "source": [
        "## Creando Dataset"
      ]
    },
    {
      "cell_type": "code",
      "execution_count": null,
      "id": "607972f3-36a4-4de5-ae4c-3f7237a3633e",
      "metadata": {
        "tags": [],
        "id": "607972f3-36a4-4de5-ae4c-3f7237a3633e"
      },
      "outputs": [],
      "source": [
        "ecg_data = np.vstack((basal_final, resp_final, ejer_final))\n",
        "ecg_target = np.concatenate((target_0, target_1, target_2))\n",
        "\n",
        "ecg_dataset = {\"data\": ecg_data, \"target\": ecg_target}\n",
        "ecg_dataset"
      ]
    },
    {
      "cell_type": "code",
      "execution_count": null,
      "id": "8f197cc8-ea41-4725-a0ee-c1e4721d6a8f",
      "metadata": {
        "tags": [],
        "id": "8f197cc8-ea41-4725-a0ee-c1e4721d6a8f"
      },
      "outputs": [],
      "source": [
        "#Grafica de las 3 categorias juntas\n",
        "ecg_data_array = ecg_data.flatten()\n",
        "plt.figure(figsize=(18, 10))\n",
        "plt.plot(ecg_data_array)\n",
        "#plt.xlim(31000,32000)"
      ]
    },
    {
      "cell_type": "code",
      "execution_count": null,
      "id": "093e9d1d-ab8a-473c-a4c3-991979dac32b",
      "metadata": {
        "id": "093e9d1d-ab8a-473c-a4c3-991979dac32b"
      },
      "outputs": [],
      "source": []
    }
  ],
  "metadata": {
    "kernelspec": {
      "display_name": "Python 3 (ipykernel)",
      "language": "python",
      "name": "python3"
    },
    "language_info": {
      "codemirror_mode": {
        "name": "ipython",
        "version": 3
      },
      "file_extension": ".py",
      "mimetype": "text/x-python",
      "name": "python",
      "nbconvert_exporter": "python",
      "pygments_lexer": "ipython3",
      "version": "3.11.2"
    },
    "colab": {
      "provenance": []
    }
  },
  "nbformat": 4,
  "nbformat_minor": 5
}